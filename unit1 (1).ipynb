{
  "nbformat": 4,
  "nbformat_minor": 0,
  "metadata": {
    "colab": {
      "provenance": []
    },
    "kernelspec": {
      "name": "python3",
      "display_name": "Python 3"
    },
    "language_info": {
      "name": "python"
    }
  },
  "cells": [
    {
      "cell_type": "code",
      "execution_count": 1,
      "metadata": {
        "id": "JLSkwwyLvfmI",
        "colab": {
          "base_uri": "https://localhost:8080/"
        },
        "outputId": "c3cac426-d0bc-490d-aeaf-4202fabef448"
      },
      "outputs": [
        {
          "output_type": "stream",
          "name": "stdout",
          "text": [
            "Enter weight in Kg to Convert into pounds:4\n",
            "4.0  Kilograms = 8.8  Pounds\n"
          ]
        }
      ],
      "source": [
        "kilo_grams = float(input('Enter weight in Kg to Convert into pounds:'))\n",
        "pounds = kilo_grams * 2.2\n",
        "print(kilo_grams,' Kilograms =', pounds,' Pounds')"
      ]
    },
    {
      "cell_type": "code",
      "source": [
        "for i in range(8,90,3):\n",
        "    print(i,end=\" \")\n"
      ],
      "metadata": {
        "colab": {
          "base_uri": "https://localhost:8080/"
        },
        "id": "QhlUUavQXJAO",
        "outputId": "46045f77-78e5-4d63-90fd-ece500a8e16f"
      },
      "execution_count": 2,
      "outputs": [
        {
          "output_type": "stream",
          "name": "stdout",
          "text": [
            "8 11 14 17 20 23 26 29 32 35 38 41 44 47 50 53 56 59 62 65 68 71 74 77 80 83 86 89 "
          ]
        }
      ]
    },
    {
      "cell_type": "code",
      "source": [
        "text = \"Hello\"\n",
        "char_list = list(text)\n",
        "print(char_list)"
      ],
      "metadata": {
        "colab": {
          "base_uri": "https://localhost:8080/"
        },
        "id": "_u6gxvpeXOpS",
        "outputId": "e3c0d248-6144-4b0d-ded0-50afbce3a47a"
      },
      "execution_count": 5,
      "outputs": [
        {
          "output_type": "stream",
          "name": "stdout",
          "text": [
            "['H', 'e', 'l', 'l', 'o']\n"
          ]
        }
      ]
    },
    {
      "cell_type": "code",
      "source": [
        "numbers = [10, 45, 2, 99, 65]\n",
        "largest = max(numbers)\n",
        "print(\"Largest number is:\", largest)"
      ],
      "metadata": {
        "colab": {
          "base_uri": "https://localhost:8080/"
        },
        "id": "TBpJbkeEXb5g",
        "outputId": "2fdb97e4-cdc7-4eb9-9bea-b9bb861c74bd"
      },
      "execution_count": 6,
      "outputs": [
        {
          "output_type": "stream",
          "name": "stdout",
          "text": [
            "Largest number is: 99\n"
          ]
        }
      ]
    },
    {
      "cell_type": "code",
      "source": [
        "def fibonacci(n):\n",
        "  if n <= 0:\n",
        "     return \"Invalid input\"\n",
        "  elif n == 1:\n",
        "     return 0\n",
        "  elif n == 2:\n",
        "        return 1\n",
        "  else:\n",
        "        return fibonacci(n-1) + fibonacci(n-2)\n",
        "n = 7\n",
        "print(f\"Fibonacci number at position {n} is:\", fibonacci(n))\n"
      ],
      "metadata": {
        "colab": {
          "base_uri": "https://localhost:8080/"
        },
        "id": "armJDkfAXnFX",
        "outputId": "7603373f-f0ee-4157-dd6b-30d010bb269b"
      },
      "execution_count": 10,
      "outputs": [
        {
          "output_type": "stream",
          "name": "stdout",
          "text": [
            "Fibonacci number at position 7 is: 8\n"
          ]
        }
      ]
    }
  ]
}