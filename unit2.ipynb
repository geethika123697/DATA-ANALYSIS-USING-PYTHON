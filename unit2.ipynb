{
  "nbformat": 4,
  "nbformat_minor": 0,
  "metadata": {
    "colab": {
      "provenance": []
    },
    "kernelspec": {
      "name": "python3",
      "display_name": "Python 3"
    },
    "language_info": {
      "name": "python"
    }
  },
  "cells": [
    {
      "cell_type": "code",
      "execution_count": 1,
      "metadata": {
        "colab": {
          "base_uri": "https://localhost:8080/"
        },
        "id": "_aCk2vw3ZFim",
        "outputId": "08297f61-e5fe-4cdb-bc52-3fa23b166a67"
      },
      "outputs": [
        {
          "output_type": "stream",
          "name": "stdout",
          "text": [
            "--- Car Class Demonstration ---\n",
            "My car: Toyota Camry (2022)\n",
            "The 2022 Toyota Camry is starting.\n",
            "The 2022 Toyota Camry is stopping.\n",
            "The 2022 Toyota Camry is starting.\n",
            "The 2022 Toyota Camry is stopping.\n"
          ]
        }
      ],
      "source": [
        "class Car:\n",
        "    def __init__(self, make, model, year):\n",
        "        self.make = make\n",
        "        self.model = model\n",
        "        self.year = year\n",
        "        self.is_started = False\n",
        "\n",
        "    def start(self):\n",
        "        if not self.is_started:\n",
        "            self.is_started = True\n",
        "            print(f\"The {self.year} {self.make} {self.model} is starting.\")\n",
        "        else:\n",
        "            print(f\"The {self.year} {self.make} {self.model} is already running.\")\n",
        "\n",
        "    def stop(self):\n",
        "        if self.is_started:\n",
        "            self.is_started = False\n",
        "            print(f\"The {self.year} {self.make} {self.model} is stopping.\")\n",
        "        else:\n",
        "            print(f\"The {self.year} {self.make} {self.model} is already stopped.\")\n",
        "\n",
        "\n",
        "# Create a car object\n",
        "print(\"--- Car Class Demonstration ---\")\n",
        "my_car = Car(\"Toyota\", \"Camry\", 2022)\n",
        "print(f\"My car: {my_car.make} {my_car.model} ({my_car.year})\")\n",
        "\n",
        "# Start and stop the car\n",
        "my_car.start()\n",
        "my_car.stop()\n",
        "my_car.start()\n",
        "my_car.stop()\n"
      ]
    },
    {
      "cell_type": "code",
      "source": [
        "# Base Class - Animal\n",
        "class Animal:\n",
        "    def __init__(self, name):\n",
        "        self.name = name\n",
        "\n",
        "    def speak(self):\n",
        "        return \"Some generic animal sound\"\n",
        "\n",
        "    def move(self):\n",
        "        return \"The animal moves around\"\n",
        "\n",
        "\n",
        "# Derived Class - Cat\n",
        "class Cat(Animal):\n",
        "    def speak(self):\n",
        "        return f\"{self.name} says: Meow! Meow!\"\n",
        "\n",
        "    def move(self):\n",
        "        return f\"{self.name} runs quietly.\"\n",
        "\n",
        "\n",
        "# Demonstration\n",
        "print(\"--- Animal Class Demonstration ---\")\n",
        "cat = Cat(\"Cutie\")\n",
        "animals = [cat]\n",
        "\n",
        "for animal in animals:\n",
        "    print(animal.speak())\n",
        "    print(animal.move())\n"
      ],
      "metadata": {
        "colab": {
          "base_uri": "https://localhost:8080/"
        },
        "id": "JGcxR77Maq_S",
        "outputId": "a11657e7-6b54-40a1-f97a-576a0547fac0"
      },
      "execution_count": 2,
      "outputs": [
        {
          "output_type": "stream",
          "name": "stdout",
          "text": [
            "--- Animal Class Demonstration ---\n",
            "Cutie says: Meow! Meow!\n",
            "Cutie runs quietly.\n"
          ]
        }
      ]
    },
    {
      "cell_type": "code",
      "source": [
        "# Base Class - Animal\n",
        "class Animal:\n",
        "    def make_sound(self):\n",
        "        raise NotImplementedError(\"Subclass must implement abstract method 'make_sound'\")\n",
        "\n",
        "\n",
        "# Derived Class - Dog\n",
        "class Dog(Animal):\n",
        "    def make_sound(self):\n",
        "        return \"Woof! Woof!\"\n",
        "\n",
        "\n",
        "# Derived Class - Cat\n",
        "class Cat(Animal):\n",
        "    def make_sound(self):\n",
        "        return \"Meow!\"\n",
        "\n",
        "\n",
        "# Derived Class - Bird\n",
        "class Bird(Animal):\n",
        "    def make_sound(self):\n",
        "        return \"Chirp! Chirp!\"\n",
        "\n",
        "\n",
        "# Demonstrating Polymorphism\n",
        "print(\"\\n--- Polymorphism Demonstration ---\")\n",
        "animals = [Dog(), Cat(), Bird()]\n",
        "\n",
        "for animal in animals:\n",
        "    print(f\"An animal makes sound: {animal.make_sound()}\")\n"
      ],
      "metadata": {
        "colab": {
          "base_uri": "https://localhost:8080/"
        },
        "id": "hkKr-R5ua1Li",
        "outputId": "f2ab2425-26f5-4d4d-8d08-51126e2e0e6d"
      },
      "execution_count": 3,
      "outputs": [
        {
          "output_type": "stream",
          "name": "stdout",
          "text": [
            "\n",
            "--- Polymorphism Demonstration ---\n",
            "An animal makes sound: Woof! Woof!\n",
            "An animal makes sound: Meow!\n",
            "An animal makes sound: Chirp! Chirp!\n"
          ]
        }
      ]
    },
    {
      "cell_type": "code",
      "source": [
        "def safe_divide(numerator, denominator):\n",
        "    try:\n",
        "        result = numerator / denominator\n",
        "        print(f\"The result of {numerator} / {denominator} is: {result}\")\n",
        "    except ZeroDivisionError:\n",
        "        print(f\"Error: Cannot divide by zero! Attempted {numerator} / {denominator}\")\n",
        "    except TypeError:\n",
        "        print(\"Error: Invalid input types. Please provide numbers.\")\n",
        "    except Exception as e:\n",
        "        print(f\"An unexpected error occurred: {e}\")\n",
        "\n",
        "\n",
        "# Demonstrating error handling\n",
        "print(\"\\n--- Error Handling Demonstration ---\")\n",
        "safe_divide(10, 2)\n",
        "safe_divide(10, 0)\n",
        "safe_divide(5, \"abc\")\n"
      ],
      "metadata": {
        "colab": {
          "base_uri": "https://localhost:8080/"
        },
        "id": "atqDOofSbGAJ",
        "outputId": "111f9847-7a90-47f0-f904-1691abdbb892"
      },
      "execution_count": 4,
      "outputs": [
        {
          "output_type": "stream",
          "name": "stdout",
          "text": [
            "\n",
            "--- Error Handling Demonstration ---\n",
            "The result of 10 / 2 is: 5.0\n",
            "Error: Cannot divide by zero! Attempted 10 / 0\n",
            "Error: Invalid input types. Please provide numbers.\n"
          ]
        }
      ]
    }
  ]
}